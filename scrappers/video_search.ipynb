{
 "cells": [
  {
   "cell_type": "code",
   "execution_count": 1,
   "metadata": {},
   "outputs": [],
   "source": [
    "import google_search as gs\n",
    "import pandas as pd"
   ]
  },
  {
   "cell_type": "code",
   "execution_count": 2,
   "metadata": {},
   "outputs": [],
   "source": [
    "x = gs.Search()"
   ]
  },
  {
   "cell_type": "code",
   "execution_count": 3,
   "metadata": {},
   "outputs": [],
   "source": [
    "x.video_search('Tutorial')"
   ]
  },
  {
   "cell_type": "code",
   "execution_count": 4,
   "metadata": {},
   "outputs": [
    {
     "data": {
      "text/plain": [
       "(100, 4)"
      ]
     },
     "execution_count": 4,
     "metadata": {},
     "output_type": "execute_result"
    }
   ],
   "source": [
    "x.result.shape"
   ]
  },
  {
   "cell_type": "code",
   "execution_count": 5,
   "metadata": {},
   "outputs": [
    {
     "data": {
      "text/html": [
       "<div>\n",
       "<style scoped>\n",
       "    .dataframe tbody tr th:only-of-type {\n",
       "        vertical-align: middle;\n",
       "    }\n",
       "\n",
       "    .dataframe tbody tr th {\n",
       "        vertical-align: top;\n",
       "    }\n",
       "\n",
       "    .dataframe thead th {\n",
       "        text-align: right;\n",
       "    }\n",
       "</style>\n",
       "<table border=\"1\" class=\"dataframe\">\n",
       "  <thead>\n",
       "    <tr style=\"text-align: right;\">\n",
       "      <th></th>\n",
       "      <th>Title</th>\n",
       "      <th>Link</th>\n",
       "      <th>Duration</th>\n",
       "      <th>Description</th>\n",
       "    </tr>\n",
       "  </thead>\n",
       "  <tbody>\n",
       "    <tr>\n",
       "      <th>0</th>\n",
       "      <td>Video Tutorials: Getting Started | SketchUp</td>\n",
       "      <td>https://www.sketchup.com/learn/videos/826</td>\n",
       "      <td>9:43</td>\n",
       "      <td>Videos. From beginner tool tips to intermediat...</td>\n",
       "    </tr>\n",
       "    <tr>\n",
       "      <th>1</th>\n",
       "      <td>Twitter Tutorial For Beginners - YouTube</td>\n",
       "      <td>https://www.youtube.com/watch?v=SBDYYGER5iM</td>\n",
       "      <td>29:00</td>\n",
       "      <td>Twitter is one of the biggest social networks ...</td>\n",
       "    </tr>\n",
       "    <tr>\n",
       "      <th>2</th>\n",
       "      <td>SEVERINA feat. LJUBA STANKOVIĆ - TUTORIAL (OFF...</td>\n",
       "      <td>https://www.youtube.com/watch?v=bUOcNI8RBGk</td>\n",
       "      <td>3:48</td>\n",
       "      <td>Subscribe Severina YouTube channel ▻ https://g...</td>\n",
       "    </tr>\n",
       "    <tr>\n",
       "      <th>3</th>\n",
       "      <td>HTML Tutorial for Beginners - part 1 of 4 - Yo...</td>\n",
       "      <td>https://www.youtube.com/watch?v=v4oN4DuR7YU</td>\n",
       "      <td>8:42</td>\n",
       "      <td>LittleWebHut.com/ How to make a website: HTML ...</td>\n",
       "    </tr>\n",
       "    <tr>\n",
       "      <th>4</th>\n",
       "      <td>WordPress Tutorial 1: Introduction - YouTube</td>\n",
       "      <td>https://www.youtube.com/watch?v=8OBfr46Y0cQ</td>\n",
       "      <td>13:10</td>\n",
       "      <td>Updated video on getting started with WordPres...</td>\n",
       "    </tr>\n",
       "    <tr>\n",
       "      <th>5</th>\n",
       "      <td>HOW TO KISS (TUTORIAL) - YouTube</td>\n",
       "      <td>https://www.youtube.com/watch?v=EBxS9CAgc8Y</td>\n",
       "      <td>4:49</td>\n",
       "      <td>FREE MAGIC THUMB TO KISS ANY GIRL: http://pran...</td>\n",
       "    </tr>\n",
       "    <tr>\n",
       "      <th>6</th>\n",
       "      <td>WordPress Tutorial For Beginners [20 MIN GUIDE...</td>\n",
       "      <td>https://www.youtube.com/watch?v=r-lqV7vyZt4</td>\n",
       "      <td>21:00</td>\n",
       "      <td>WordPress Tutorial For Beginners -- Get Your H...</td>\n",
       "    </tr>\n",
       "    <tr>\n",
       "      <th>7</th>\n",
       "      <td>LEARN PREMIERE PRO IN 20 MINUTES ! - Tutorial ...</td>\n",
       "      <td>https://www.youtube.com/watch?v=Hls3Tp7JS8E</td>\n",
       "      <td>20:47</td>\n",
       "      <td>Interested in getting Premiere Pro or After Ef...</td>\n",
       "    </tr>\n",
       "    <tr>\n",
       "      <th>8</th>\n",
       "      <td>How to Make Tutorial Videos - YouTube</td>\n",
       "      <td>https://www.youtube.com/watch?v=BDliEq_0qeQ&amp;vl=en</td>\n",
       "      <td>7:26</td>\n",
       "      <td>Learn how to create great tutorial videos by f...</td>\n",
       "    </tr>\n",
       "    <tr>\n",
       "      <th>9</th>\n",
       "      <td>C++ Tutorial for Beginners - Full Course - You...</td>\n",
       "      <td>https://www.youtube.com/watch?v=vLnPwxZdW4Y&amp;vl=en</td>\n",
       "      <td>4:01:19</td>\n",
       "      <td>This course will give you a full introduction ...</td>\n",
       "    </tr>\n",
       "    <tr>\n",
       "      <th>10</th>\n",
       "      <td>Blender Beginner Tutorial - Part 1: User Inter...</td>\n",
       "      <td>https://www.youtube.com/watch?v=JYj6e-72RDs</td>\n",
       "      <td>16:04</td>\n",
       "      <td>Blender tutorial for complete beginners! How t...</td>\n",
       "    </tr>\n",
       "    <tr>\n",
       "      <th>11</th>\n",
       "      <td>EZ Tutorials - YouTube</td>\n",
       "      <td>https://www.youtube.com/channel/UCz6KLlSVw2OmV...</td>\n",
       "      <td></td>\n",
       "      <td>After Effects tutorials to help you learn how ...</td>\n",
       "    </tr>\n",
       "    <tr>\n",
       "      <th>12</th>\n",
       "      <td>Bootstrap Tutorial - YouTube</td>\n",
       "      <td>https://www.youtube.com/watch?v=gqOEoUR5RHg</td>\n",
       "      <td>1:04:38</td>\n",
       "      <td>Get the Cheat Sheet Here : http://goo.gl/M5G7w...</td>\n",
       "    </tr>\n",
       "    <tr>\n",
       "      <th>13</th>\n",
       "      <td>Git Tutorial for Beginners: Command-Line Funda...</td>\n",
       "      <td>https://www.youtube.com/watch?v=HVsySz-h9r4</td>\n",
       "      <td>30:33</td>\n",
       "      <td>Git is the most popular version control system...</td>\n",
       "    </tr>\n",
       "    <tr>\n",
       "      <th>14</th>\n",
       "      <td>Tutorial 1 -- Creating your first scribe - You...</td>\n",
       "      <td>https://www.youtube.com/watch?v=QP_Q9_YZWHU</td>\n",
       "      <td>20:54</td>\n",
       "      <td>Learn how to navigate the key features of Vide...</td>\n",
       "    </tr>\n",
       "  </tbody>\n",
       "</table>\n",
       "</div>"
      ],
      "text/plain": [
       "                                                Title  \\\n",
       "0         Video Tutorials: Getting Started | SketchUp   \n",
       "1            Twitter Tutorial For Beginners - YouTube   \n",
       "2   SEVERINA feat. LJUBA STANKOVIĆ - TUTORIAL (OFF...   \n",
       "3   HTML Tutorial for Beginners - part 1 of 4 - Yo...   \n",
       "4        WordPress Tutorial 1: Introduction - YouTube   \n",
       "5                    HOW TO KISS (TUTORIAL) - YouTube   \n",
       "6   WordPress Tutorial For Beginners [20 MIN GUIDE...   \n",
       "7   LEARN PREMIERE PRO IN 20 MINUTES ! - Tutorial ...   \n",
       "8               How to Make Tutorial Videos - YouTube   \n",
       "9   C++ Tutorial for Beginners - Full Course - You...   \n",
       "10  Blender Beginner Tutorial - Part 1: User Inter...   \n",
       "11                             EZ Tutorials - YouTube   \n",
       "12                       Bootstrap Tutorial - YouTube   \n",
       "13  Git Tutorial for Beginners: Command-Line Funda...   \n",
       "14  Tutorial 1 -- Creating your first scribe - You...   \n",
       "\n",
       "                                                 Link  Duration  \\\n",
       "0           https://www.sketchup.com/learn/videos/826      9:43   \n",
       "1         https://www.youtube.com/watch?v=SBDYYGER5iM     29:00   \n",
       "2         https://www.youtube.com/watch?v=bUOcNI8RBGk      3:48   \n",
       "3         https://www.youtube.com/watch?v=v4oN4DuR7YU      8:42   \n",
       "4         https://www.youtube.com/watch?v=8OBfr46Y0cQ     13:10   \n",
       "5         https://www.youtube.com/watch?v=EBxS9CAgc8Y      4:49   \n",
       "6         https://www.youtube.com/watch?v=r-lqV7vyZt4     21:00   \n",
       "7         https://www.youtube.com/watch?v=Hls3Tp7JS8E     20:47   \n",
       "8   https://www.youtube.com/watch?v=BDliEq_0qeQ&vl=en      7:26   \n",
       "9   https://www.youtube.com/watch?v=vLnPwxZdW4Y&vl=en   4:01:19   \n",
       "10        https://www.youtube.com/watch?v=JYj6e-72RDs     16:04   \n",
       "11  https://www.youtube.com/channel/UCz6KLlSVw2OmV...             \n",
       "12        https://www.youtube.com/watch?v=gqOEoUR5RHg   1:04:38   \n",
       "13        https://www.youtube.com/watch?v=HVsySz-h9r4     30:33   \n",
       "14        https://www.youtube.com/watch?v=QP_Q9_YZWHU     20:54   \n",
       "\n",
       "                                          Description  \n",
       "0   Videos. From beginner tool tips to intermediat...  \n",
       "1   Twitter is one of the biggest social networks ...  \n",
       "2   Subscribe Severina YouTube channel ▻ https://g...  \n",
       "3   LittleWebHut.com/ How to make a website: HTML ...  \n",
       "4   Updated video on getting started with WordPres...  \n",
       "5   FREE MAGIC THUMB TO KISS ANY GIRL: http://pran...  \n",
       "6   WordPress Tutorial For Beginners -- Get Your H...  \n",
       "7   Interested in getting Premiere Pro or After Ef...  \n",
       "8   Learn how to create great tutorial videos by f...  \n",
       "9   This course will give you a full introduction ...  \n",
       "10  Blender tutorial for complete beginners! How t...  \n",
       "11  After Effects tutorials to help you learn how ...  \n",
       "12  Get the Cheat Sheet Here : http://goo.gl/M5G7w...  \n",
       "13  Git is the most popular version control system...  \n",
       "14  Learn how to navigate the key features of Vide...  "
      ]
     },
     "execution_count": 5,
     "metadata": {},
     "output_type": "execute_result"
    }
   ],
   "source": [
    "x.result[:15]"
   ]
  },
  {
   "cell_type": "code",
   "execution_count": 6,
   "metadata": {},
   "outputs": [
    {
     "name": "stdout",
     "output_type": "stream",
     "text": [
      "Saved search results as \"data/Tutorial @2018_11_11_14_54.csv\"\n"
     ]
    }
   ],
   "source": [
    "x.save()"
   ]
  },
  {
   "cell_type": "code",
   "execution_count": null,
   "metadata": {},
   "outputs": [],
   "source": []
  }
 ],
 "metadata": {
  "kernelspec": {
   "display_name": "Python 3",
   "language": "python",
   "name": "python3"
  },
  "language_info": {
   "codemirror_mode": {
    "name": "ipython",
    "version": 3
   },
   "file_extension": ".py",
   "mimetype": "text/x-python",
   "name": "python",
   "nbconvert_exporter": "python",
   "pygments_lexer": "ipython3",
   "version": "3.6.5"
  }
 },
 "nbformat": 4,
 "nbformat_minor": 2
}
