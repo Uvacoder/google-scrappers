{
 "cells": [
  {
   "cell_type": "code",
   "execution_count": 1,
   "metadata": {},
   "outputs": [],
   "source": [
    "import google_search as gs\n",
    "import pandas as pd"
   ]
  },
  {
   "cell_type": "code",
   "execution_count": 2,
   "metadata": {},
   "outputs": [],
   "source": [
    "x = gs.Search('dog')"
   ]
  },
  {
   "cell_type": "code",
   "execution_count": 3,
   "metadata": {},
   "outputs": [],
   "source": [
    "x.web_search()"
   ]
  },
  {
   "cell_type": "code",
   "execution_count": 4,
   "metadata": {},
   "outputs": [
    {
     "data": {
      "text/plain": [
       "(97, 3)"
      ]
     },
     "execution_count": 4,
     "metadata": {},
     "output_type": "execute_result"
    }
   ],
   "source": [
    "x.result.shape"
   ]
  },
  {
   "cell_type": "code",
   "execution_count": 5,
   "metadata": {},
   "outputs": [
    {
     "data": {
      "text/html": [
       "<div>\n",
       "<style scoped>\n",
       "    .dataframe tbody tr th:only-of-type {\n",
       "        vertical-align: middle;\n",
       "    }\n",
       "\n",
       "    .dataframe tbody tr th {\n",
       "        vertical-align: top;\n",
       "    }\n",
       "\n",
       "    .dataframe thead th {\n",
       "        text-align: right;\n",
       "    }\n",
       "</style>\n",
       "<table border=\"1\" class=\"dataframe\">\n",
       "  <thead>\n",
       "    <tr style=\"text-align: right;\">\n",
       "      <th></th>\n",
       "      <th>Description</th>\n",
       "      <th>Link</th>\n",
       "      <th>Title</th>\n",
       "    </tr>\n",
       "  </thead>\n",
       "  <tbody>\n",
       "    <tr>\n",
       "      <th>0</th>\n",
       "      <td>The domestic dog is a member of the genus Cani...</td>\n",
       "      <td>https://en.wikipedia.org/wiki/Dog</td>\n",
       "      <td>Dog - Wikipediahttps://en.wikipedia.org/wiki/Dog</td>\n",
       "    </tr>\n",
       "    <tr>\n",
       "      <th>1</th>\n",
       "      <td>Your dog's online owners manual, featuring art...</td>\n",
       "      <td>http://www.vetstreet.com/dogs/</td>\n",
       "      <td>Complete Guide to Caring for Dogs | Dog Breed ...</td>\n",
       "    </tr>\n",
       "    <tr>\n",
       "      <th>2</th>\n",
       "      <td>How rehoming works. To start the rehoming proc...</td>\n",
       "      <td>https://www.dogstrust.ie/rehoming/dogs/</td>\n",
       "      <td>Dogs and Puppies for rehoming | Dogs Trusthttp...</td>\n",
       "    </tr>\n",
       "    <tr>\n",
       "      <th>3</th>\n",
       "      <td>Breed: Siberian Husky, Retriever, Labrador. Ag...</td>\n",
       "      <td>https://www.torontohumanesociety.com/adopt-a-p...</td>\n",
       "      <td>Dogs - The Toronto Humane Societyhttps://www.t...</td>\n",
       "    </tr>\n",
       "    <tr>\n",
       "      <th>4</th>\n",
       "      <td>Shop our collection of dog and puppy supplies,...</td>\n",
       "      <td>https://www.petsmart.com/dog/</td>\n",
       "      <td>Dog Supplies: Dog &amp; Puppy Products | PetSmarth...</td>\n",
       "    </tr>\n",
       "  </tbody>\n",
       "</table>\n",
       "</div>"
      ],
      "text/plain": [
       "                                         Description  \\\n",
       "0  The domestic dog is a member of the genus Cani...   \n",
       "1  Your dog's online owners manual, featuring art...   \n",
       "2  How rehoming works. To start the rehoming proc...   \n",
       "3  Breed: Siberian Husky, Retriever, Labrador. Ag...   \n",
       "4  Shop our collection of dog and puppy supplies,...   \n",
       "\n",
       "                                                Link  \\\n",
       "0                  https://en.wikipedia.org/wiki/Dog   \n",
       "1                     http://www.vetstreet.com/dogs/   \n",
       "2            https://www.dogstrust.ie/rehoming/dogs/   \n",
       "3  https://www.torontohumanesociety.com/adopt-a-p...   \n",
       "4                      https://www.petsmart.com/dog/   \n",
       "\n",
       "                                               Title  \n",
       "0   Dog - Wikipediahttps://en.wikipedia.org/wiki/Dog  \n",
       "1  Complete Guide to Caring for Dogs | Dog Breed ...  \n",
       "2  Dogs and Puppies for rehoming | Dogs Trusthttp...  \n",
       "3  Dogs - The Toronto Humane Societyhttps://www.t...  \n",
       "4  Dog Supplies: Dog & Puppy Products | PetSmarth...  "
      ]
     },
     "execution_count": 5,
     "metadata": {},
     "output_type": "execute_result"
    }
   ],
   "source": [
    "x.result.head()"
   ]
  },
  {
   "cell_type": "code",
   "execution_count": 6,
   "metadata": {},
   "outputs": [
    {
     "name": "stdout",
     "output_type": "stream",
     "text": [
      "Saved search results as \"data/dog @2018_11_10_21_10.csv\"\n"
     ]
    }
   ],
   "source": [
    "x.save()"
   ]
  },
  {
   "cell_type": "code",
   "execution_count": 11,
   "metadata": {},
   "outputs": [],
   "source": [
    "df = pd.read_csv('data/dog @2018_11_10_21_10.csv')"
   ]
  },
  {
   "cell_type": "code",
   "execution_count": 12,
   "metadata": {},
   "outputs": [
    {
     "name": "stdout",
     "output_type": "stream",
     "text": [
      "<class 'pandas.core.frame.DataFrame'>\n",
      "RangeIndex: 97 entries, 0 to 96\n",
      "Data columns (total 3 columns):\n",
      "Description    97 non-null object\n",
      "Link           97 non-null object\n",
      "Title          97 non-null object\n",
      "dtypes: object(3)\n",
      "memory usage: 2.4+ KB\n"
     ]
    }
   ],
   "source": [
    "df.info()"
   ]
  },
  {
   "cell_type": "code",
   "execution_count": 13,
   "metadata": {},
   "outputs": [
    {
     "data": {
      "text/html": [
       "<div>\n",
       "<style scoped>\n",
       "    .dataframe tbody tr th:only-of-type {\n",
       "        vertical-align: middle;\n",
       "    }\n",
       "\n",
       "    .dataframe tbody tr th {\n",
       "        vertical-align: top;\n",
       "    }\n",
       "\n",
       "    .dataframe thead th {\n",
       "        text-align: right;\n",
       "    }\n",
       "</style>\n",
       "<table border=\"1\" class=\"dataframe\">\n",
       "  <thead>\n",
       "    <tr style=\"text-align: right;\">\n",
       "      <th></th>\n",
       "      <th>Description</th>\n",
       "      <th>Link</th>\n",
       "      <th>Title</th>\n",
       "    </tr>\n",
       "  </thead>\n",
       "  <tbody>\n",
       "    <tr>\n",
       "      <th>0</th>\n",
       "      <td>The domestic dog is a member of the genus Cani...</td>\n",
       "      <td>https://en.wikipedia.org/wiki/Dog</td>\n",
       "      <td>Dog - Wikipediahttps://en.wikipedia.org/wiki/Dog</td>\n",
       "    </tr>\n",
       "    <tr>\n",
       "      <th>1</th>\n",
       "      <td>Your dog's online owners manual, featuring art...</td>\n",
       "      <td>http://www.vetstreet.com/dogs/</td>\n",
       "      <td>Complete Guide to Caring for Dogs | Dog Breed ...</td>\n",
       "    </tr>\n",
       "    <tr>\n",
       "      <th>2</th>\n",
       "      <td>How rehoming works. To start the rehoming proc...</td>\n",
       "      <td>https://www.dogstrust.ie/rehoming/dogs/</td>\n",
       "      <td>Dogs and Puppies for rehoming | Dogs Trusthttp...</td>\n",
       "    </tr>\n",
       "    <tr>\n",
       "      <th>3</th>\n",
       "      <td>Breed: Siberian Husky, Retriever, Labrador. Ag...</td>\n",
       "      <td>https://www.torontohumanesociety.com/adopt-a-p...</td>\n",
       "      <td>Dogs - The Toronto Humane Societyhttps://www.t...</td>\n",
       "    </tr>\n",
       "    <tr>\n",
       "      <th>4</th>\n",
       "      <td>Shop our collection of dog and puppy supplies,...</td>\n",
       "      <td>https://www.petsmart.com/dog/</td>\n",
       "      <td>Dog Supplies: Dog &amp; Puppy Products | PetSmarth...</td>\n",
       "    </tr>\n",
       "  </tbody>\n",
       "</table>\n",
       "</div>"
      ],
      "text/plain": [
       "                                         Description  \\\n",
       "0  The domestic dog is a member of the genus Cani...   \n",
       "1  Your dog's online owners manual, featuring art...   \n",
       "2  How rehoming works. To start the rehoming proc...   \n",
       "3  Breed: Siberian Husky, Retriever, Labrador. Ag...   \n",
       "4  Shop our collection of dog and puppy supplies,...   \n",
       "\n",
       "                                                Link  \\\n",
       "0                  https://en.wikipedia.org/wiki/Dog   \n",
       "1                     http://www.vetstreet.com/dogs/   \n",
       "2            https://www.dogstrust.ie/rehoming/dogs/   \n",
       "3  https://www.torontohumanesociety.com/adopt-a-p...   \n",
       "4                      https://www.petsmart.com/dog/   \n",
       "\n",
       "                                               Title  \n",
       "0   Dog - Wikipediahttps://en.wikipedia.org/wiki/Dog  \n",
       "1  Complete Guide to Caring for Dogs | Dog Breed ...  \n",
       "2  Dogs and Puppies for rehoming | Dogs Trusthttp...  \n",
       "3  Dogs - The Toronto Humane Societyhttps://www.t...  \n",
       "4  Dog Supplies: Dog & Puppy Products | PetSmarth...  "
      ]
     },
     "execution_count": 13,
     "metadata": {},
     "output_type": "execute_result"
    }
   ],
   "source": [
    "df.head()"
   ]
  },
  {
   "cell_type": "code",
   "execution_count": null,
   "metadata": {},
   "outputs": [],
   "source": []
  }
 ],
 "metadata": {
  "kernelspec": {
   "display_name": "Python 3",
   "language": "python",
   "name": "python3"
  },
  "language_info": {
   "codemirror_mode": {
    "name": "ipython",
    "version": 3
   },
   "file_extension": ".py",
   "mimetype": "text/x-python",
   "name": "python",
   "nbconvert_exporter": "python",
   "pygments_lexer": "ipython3",
   "version": "3.6.5"
  }
 },
 "nbformat": 4,
 "nbformat_minor": 2
}
